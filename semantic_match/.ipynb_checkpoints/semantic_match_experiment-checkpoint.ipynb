{
 "cells": [
  {
   "cell_type": "code",
   "execution_count": 1,
   "id": "8efd59bd-333a-4b29-bb7f-bcb0b2f3529d",
   "metadata": {},
   "outputs": [],
   "source": [
    "import sys\n",
    "import os\n",
    "\n",
    "root_path = os.path.abspath('.')\n",
    "data_path = \"data/train_pair_1w.json\"\n",
    "file_path = os.path.join(root_path, data_path)\n",
    "\n",
    "assert os.path.exists(file_path)"
   ]
  },
  {
   "cell_type": "code",
   "execution_count": 2,
   "id": "d8befe08-8991-469a-84f6-ac1bbbfa7c97",
   "metadata": {
    "scrolled": true
   },
   "outputs": [],
   "source": [
    "# !pip install -U sentence-transformers"
   ]
  },
  {
   "cell_type": "code",
   "execution_count": 3,
   "id": "588d2c6e-73c7-4096-96a1-1ccdcc57681e",
   "metadata": {},
   "outputs": [],
   "source": [
    "# jsonl 文件的读取方式\n",
    "# https://blog.csdn.net/weixin_43420032/article/details/88547515\n",
    "import json\n",
    "\n",
    "def read_file(path):\n",
    "    data = []\n",
    "    with open(path, 'r') as f:\n",
    "        for line in f.readlines():\n",
    "            data.append(json.loads(line))\n",
    "\n",
    "    return data\n",
    "    "
   ]
  },
  {
   "cell_type": "code",
   "execution_count": 26,
   "id": "fb545792-dbf3-4b4e-b80f-4876c6c7ea47",
   "metadata": {},
   "outputs": [],
   "source": [
    "test_data = read_file(file_path)"
   ]
  },
  {
   "cell_type": "code",
   "execution_count": 28,
   "id": "d56c5172-2027-4982-908b-fbafe1a224e7",
   "metadata": {},
   "outputs": [
    {
     "data": {
      "text/plain": [
       "[{'sentence1': '找一部小时候的动画片', 'sentence2': '求一部小时候的动画片。谢了', 'label': '1'},\n",
       " {'sentence1': '我不可能是一个有鉴赏能力的行家，小姐我把我的时间都花在书写上；象这样豪华的舞会，我还是头一次见到。',\n",
       "  'sentence2': '蜡烛没熄就好了，夜黑得瘆人，情绪压抑。',\n",
       "  'label': '0'},\n",
       " {'sentence1': '胡子长得太快怎么办？', 'sentence2': '胡子长得快怎么办？', 'label': '1'},\n",
       " {'sentence1': '有时，当空气所含的水蒸气已经饱和，拉托娜的女儿的光线被它留住而形成一个光环时，我们看到她就像这样被这个光环围绕着。',\n",
       "  'sentence2': '木栅在波涛的冲击下猛烈地震动着。',\n",
       "  'label': '0'},\n",
       " {'sentence1': '人家真要以为他们生平只看见过他这一个黑人呢。',\n",
       "  'sentence2': '而且，当然，如果只有流血对他们才有帮助，他们是不会望而却步，停止流血的有的时候他们屠杀的全然是无辜的人，为保卫古老的法律而英勇牺牲了。',\n",
       "  'label': '0'},\n",
       " {'sentence1': '在香港哪里买手表好', 'sentence2': '香港买手表哪里好', 'label': '1'},\n",
       " {'sentence1': '显然，她急于要向他说这么一句话。',\n",
       "  'sentence2': '她像石像似的坐在那里，面色错黄、苍白，嘴唇紧抿着——什么都不吃。',\n",
       "  'label': '0'},\n",
       " {'sentence1': '邓蒂斯仔细看了一番，然后又四面瞧来瞧去，寻找那件把它修削成这样整齐的形式的工具。',\n",
       "  'sentence2': '三天以后，四个火枪手回到巴黎。',\n",
       "  'label': '0'},\n",
       " {'sentence1': '别急呀，我的朋友。', 'sentence2': '你一定要看我一下。', 'label': '0'},\n",
       " {'sentence1': '全职妈妈在家怎么赚钱？', 'sentence2': '全职妈妈在家上网做什么工作赚钱', 'label': '1'}]"
      ]
     },
     "execution_count": 28,
     "metadata": {},
     "output_type": "execute_result"
    }
   ],
   "source": [
    "test_data[:10]"
   ]
  },
  {
   "cell_type": "code",
   "execution_count": 31,
   "id": "cd6d7ad6-52f5-40aa-a604-e2c3a612f404",
   "metadata": {},
   "outputs": [
    {
     "name": "stderr",
     "output_type": "stream",
     "text": [
      "/Users/pnightowl/confirm/lib/python3.10/site-packages/tqdm/auto.py:21: TqdmWarning: IProgress not found. Please update jupyter and ipywidgets. See https://ipywidgets.readthedocs.io/en/stable/user_install.html\n",
      "  from .autonotebook import tqdm as notebook_tqdm\n"
     ]
    },
    {
     "data": {
      "text/plain": [
       "array([ 5.58739185e-01,  3.47888082e-01,  1.19115460e+00, -6.59837067e-01,\n",
       "       -1.48600593e-01, -1.53650904e+00,  2.44386848e-02,  1.01766445e-01,\n",
       "       -1.23195851e+00,  2.06010148e-01,  9.46821034e-01, -4.57516424e-02,\n",
       "        6.73527777e-01, -4.23242211e-01, -9.85149562e-01, -1.44115493e-01,\n",
       "        2.87530154e-01,  8.36716473e-01, -7.46326268e-01, -8.27828228e-01,\n",
       "       -2.42760584e-01,  1.43773481e-01, -9.59243953e-01,  6.54832721e-01,\n",
       "        3.98930572e-02,  3.13201211e-02, -2.34301135e-01,  3.53209406e-01,\n",
       "        5.08721769e-01,  3.76312703e-01,  9.20948327e-01, -1.08260751e-01,\n",
       "        1.11900568e-01, -7.57970214e-02, -1.16572849e-01, -2.25251749e-01,\n",
       "        7.94435024e-01,  7.35297054e-02,  2.53166169e-01,  5.08690834e-01,\n",
       "        7.88949311e-01,  7.86551237e-01, -8.71810973e-01, -4.27901268e-01,\n",
       "       -4.41782689e-03,  2.75526494e-01,  4.18464929e-01,  1.52039587e-01,\n",
       "       -1.35366857e+00, -5.96805215e-02,  5.81078589e-01,  5.36770630e+00,\n",
       "       -4.41604823e-01,  5.44861495e-01, -6.13036864e-02,  5.18857419e-01,\n",
       "       -5.48512399e-01, -4.66583222e-01,  3.98253947e-01,  1.92643359e-01,\n",
       "       -2.05302358e-01, -1.13655102e+00,  3.39449257e-01, -3.33253831e-01,\n",
       "       -2.33683452e-01, -8.02441761e-02, -4.96793501e-02, -3.75981659e-01,\n",
       "        1.29494584e+00, -9.43282425e-01,  4.75447804e-01, -1.46433258e+00,\n",
       "       -9.11192834e-01,  3.79181981e-01,  8.99857581e-01, -4.56681728e-01,\n",
       "        7.27397740e-01,  1.23877011e-01,  2.62742192e-01, -5.47990799e-01,\n",
       "        2.00368389e-01,  3.95551205e-01, -1.17597682e-02,  1.88138142e-01,\n",
       "       -1.72587359e+00,  1.78657338e-01, -9.11860228e-01, -2.39891410e-01,\n",
       "        3.07512134e-01,  3.99804443e-01, -2.08101106e+00, -2.33789325e-01,\n",
       "       -2.19081596e-01, -3.53888601e-01,  3.41976255e-01, -5.82105696e-01,\n",
       "        1.48473755e-02, -8.12023342e-01, -3.98939461e-01,  8.94931257e-01,\n",
       "        3.08999568e-01, -2.16003016e-01, -5.57648540e-01, -6.02304637e-01,\n",
       "        4.99746323e-01, -2.04554453e-01, -6.58273041e-01,  7.91083872e-01,\n",
       "        5.66804409e-01, -1.00034572e-01, -2.30971668e-02,  1.40558347e-01,\n",
       "       -1.15427123e-02,  4.46079522e-02, -6.23812497e-01, -6.60333216e-01,\n",
       "       -6.76909149e-01, -1.22658968e-01,  1.38720024e+00, -5.19064963e-01,\n",
       "        1.81511715e-02,  1.98575094e-01, -4.75516200e-01, -1.40738487e+00,\n",
       "       -9.76250600e-03, -1.26753077e-01,  1.78997338e-01, -1.45169482e-01,\n",
       "       -4.65054423e-01,  6.11114681e-01,  8.35772231e-02, -3.75588506e-01,\n",
       "       -1.56908035e+00,  2.49934793e-01, -2.38822937e-01,  1.36523739e-01,\n",
       "       -2.97161102e-01, -4.46544796e-01, -9.56683457e-01, -1.57306111e+00,\n",
       "        1.68967259e+00,  5.04311562e-01, -4.78983074e-01, -5.94763100e-01,\n",
       "       -6.13769591e-01,  7.50631630e-01, -7.57804653e-03,  1.82277009e-01,\n",
       "        4.63958740e-01, -4.23601978e-02,  3.36132973e-01, -1.42023981e-01,\n",
       "        2.25753918e-01,  5.62548578e-01,  3.62660497e-01,  5.72146952e-01,\n",
       "       -8.83864701e-01,  3.19063038e-01, -1.36926317e+00,  4.89437342e-01,\n",
       "       -2.06195474e-01, -3.45151305e-01,  1.15207613e-01, -5.37089765e-01,\n",
       "        7.43319213e-01,  7.71381795e-01,  2.19658598e-01, -1.20166075e+00,\n",
       "        2.76982278e-01,  9.23302114e-01, -6.45998299e-01, -7.83076763e-01,\n",
       "       -5.39711773e-01, -3.96565706e-01, -5.59429586e-01, -1.95820276e-02,\n",
       "       -6.04175091e-01,  7.47737408e-01, -1.01939499e+00, -2.15207353e-01,\n",
       "       -1.05661809e+00, -3.60508054e-01,  5.08523583e-01,  4.28829312e-01,\n",
       "       -3.63274105e-02,  8.36522400e-01, -6.10316575e-01,  3.69765073e-01,\n",
       "        4.22419220e-01, -2.24414870e-01, -8.99314642e-01, -2.43728325e-01,\n",
       "       -7.22276211e-01, -3.12931627e-01,  1.22150314e+00,  3.41539592e-01,\n",
       "       -8.70769203e-01, -1.39686263e+00, -1.23694885e+00,  4.68378186e-01,\n",
       "        4.22660828e-01, -2.80614763e-01, -3.25016052e-01,  8.92803848e-01,\n",
       "       -9.77749750e-02,  2.05506369e-01, -6.12660170e-01,  6.45923078e-01,\n",
       "        5.24930894e-01,  3.15166026e-01, -6.41869664e-01, -8.68008435e-01,\n",
       "       -1.01271093e-01,  3.12750906e-01, -2.52408415e-01,  2.30766535e-01,\n",
       "       -1.79471147e+00,  4.70598251e-01, -3.07301432e-01, -4.28739004e-02,\n",
       "        7.92595625e-01, -6.74660861e-01,  1.46795565e-03, -5.80352962e-01,\n",
       "       -1.48075831e+00, -3.09769690e-01, -1.01313376e+00, -5.14513910e-01,\n",
       "        5.77281773e-01, -3.78290683e-01,  3.28650743e-01, -3.72336239e-01,\n",
       "       -2.64518499e-01, -8.30331504e-01,  3.03929120e-01,  6.82974756e-01,\n",
       "       -4.08180624e-01, -3.35489176e-02, -2.70963252e-01, -1.27595842e-01,\n",
       "       -5.09342663e-02,  9.98590946e-01,  4.43729877e-01, -8.30104530e-01,\n",
       "       -3.80991966e-01,  7.14800894e-01, -2.80977160e-01, -8.67102444e-01,\n",
       "       -4.09845322e-01,  6.27350509e-02,  8.33240032e-01,  6.98250011e-02,\n",
       "        4.93735433e-01, -1.15091622e+00, -3.19514424e-01, -4.72113609e-01,\n",
       "       -5.50887525e-01, -9.10013139e-01,  1.21659495e-01, -6.14010572e-01,\n",
       "       -1.49401620e-01, -2.05018118e-01,  9.65838432e-01,  2.83563942e-01,\n",
       "        3.39444242e-02, -6.71235621e-01,  1.24593772e-01, -1.51766217e+00,\n",
       "       -7.20619440e-01,  3.65378737e-01, -3.91665965e-01,  1.22712696e+00,\n",
       "        6.68301880e-01, -3.25254321e-01,  6.56129003e-01, -2.66060859e-01,\n",
       "        8.97247612e-01, -7.50058144e-03, -1.03299308e+00, -8.44511569e-01,\n",
       "       -6.29363209e-02,  8.84507835e-01,  5.47436535e-01, -2.08844587e-01,\n",
       "       -6.14558220e-01,  2.33282804e-01, -5.96024245e-02,  2.16917023e-01,\n",
       "       -3.34860295e-01, -8.73807371e-01, -7.65578926e-01,  2.26648912e-01,\n",
       "        4.56683755e-01,  2.94313043e-01,  4.95325518e+00, -1.03519881e+00,\n",
       "       -4.28123087e-01,  8.34890306e-01,  7.72950888e-01,  6.98346496e-02,\n",
       "       -1.97806478e-01, -1.04361057e+00, -1.98602721e-01,  1.16878653e+00,\n",
       "       -3.45879272e-02,  6.26360238e-01,  4.77102846e-01,  6.20969713e-01,\n",
       "       -1.28496543e-01, -4.45208669e-01, -2.64145941e-01, -2.97284961e-01,\n",
       "        4.13557619e-01,  2.17445970e-01, -1.10546672e+00,  6.52441442e-01,\n",
       "       -6.76097572e-01, -9.07870293e-01,  8.33132714e-02, -2.89375216e-01,\n",
       "        4.76470381e-01,  3.09839338e-01,  2.50407159e-01,  8.46224368e-01,\n",
       "        2.68108696e-01,  2.82399327e-01,  6.71912968e-01,  8.60545933e-01,\n",
       "       -4.14057046e-01,  1.05494595e+00,  1.26056325e+00, -1.16908312e+00,\n",
       "        6.69479609e-01,  1.26966941e+00,  2.92515665e-01,  1.29890788e+00,\n",
       "        1.08953953e-01, -9.37042892e-01, -3.07434767e-01,  3.76586467e-01,\n",
       "       -3.77153993e-01,  1.77782238e-01,  2.36308292e-01, -1.43465376e+00,\n",
       "       -2.68268794e-01, -4.71370548e-01, -3.19733351e-01, -6.17833078e-01,\n",
       "       -1.68735728e-01, -4.54750866e-01, -1.16124427e+00,  7.02265427e-02,\n",
       "       -5.98736882e-01, -5.97237051e-01, -6.63802981e-01,  5.36496758e-01,\n",
       "        1.04846120e+00,  3.97914648e-01, -2.02793330e-02,  3.47597361e-01,\n",
       "       -1.79384351e-01, -1.97449744e-01, -1.31377852e+00,  9.76245701e-01,\n",
       "        4.55145568e-01, -6.10052288e-01,  5.47946334e-01,  4.75078255e-01,\n",
       "        3.62564534e-01, -4.18962687e-01,  8.38825285e-01, -2.72049338e-01,\n",
       "        1.03579164e+00, -6.43677413e-01,  1.46335137e+00,  9.90894496e-01,\n",
       "       -1.55545962e+00,  3.53121072e-01,  5.22290409e-01, -2.13578150e-01,\n",
       "        1.54733956e-01, -8.93634498e-01, -3.61135602e-01, -1.60205439e-01,\n",
       "       -2.25144789e-01, -2.79434770e-01,  1.55539051e-01, -1.48824751e+00,\n",
       "       -2.79165775e-01, -1.01535130e+00, -7.67753184e-01,  4.35481817e-01,\n",
       "        6.84521496e-01, -4.26888227e-01, -5.61551273e-01, -6.78290546e-01,\n",
       "       -9.61804390e-03,  4.38116789e-01,  7.12631524e-01,  7.42427588e-01,\n",
       "        9.07773435e-01, -5.38998663e-01, -3.85890365e-01,  4.87784296e-01,\n",
       "       -2.49124810e-01,  2.94826422e-02, -4.23118204e-01, -5.40529728e-01,\n",
       "        9.66835320e-01, -1.81235984e-01, -6.12091959e-01,  9.19577852e-02,\n",
       "       -4.02035952e-01, -1.72985041e+00,  2.28934348e-01,  5.00921495e-02,\n",
       "       -7.17779815e-01, -5.00270426e-01,  1.31546366e+00, -1.27872610e+00,\n",
       "       -8.47538188e-02, -1.21875346e-01,  1.03268361e+00, -5.94460785e-01,\n",
       "        2.33087778e-01,  2.10141182e-01,  4.75044221e-01,  8.24915096e-02,\n",
       "        7.12742150e-01,  4.66456031e-03,  9.45340395e-01,  4.99976277e-01,\n",
       "        9.68279421e-01, -4.25977588e-01,  9.59616184e-01,  4.92159128e-01,\n",
       "       -1.04970694e+00,  2.32930943e-01, -1.48161829e-01, -1.01502264e+00,\n",
       "       -5.65790057e-01, -5.02937250e-02,  8.48270059e-02, -6.27130270e-02,\n",
       "       -5.97062886e-01, -1.16485894e-01,  2.80196398e-01, -9.52489078e-01,\n",
       "        4.37012464e-01, -4.94555801e-01,  6.80037737e-01,  7.29018450e-03,\n",
       "        1.42586589e-01, -9.85161841e-01,  7.84332931e-01, -1.54226229e-01,\n",
       "        5.48598826e-01,  4.44668293e-01,  9.02370885e-02,  7.20597088e-01,\n",
       "       -6.32200480e-01, -2.74632215e-01, -8.74559656e-02,  9.39112484e-01,\n",
       "        1.47325516e-01, -1.17505990e-01,  6.12238467e-01, -4.10804361e-01,\n",
       "        9.53761280e-01,  5.93202889e-01,  5.59624052e-03,  9.81654942e-01,\n",
       "       -1.26724496e-01, -1.07484162e-01, -9.12720203e-01, -2.68908292e-01,\n",
       "        5.23564041e-01,  5.62105656e-01, -9.96100903e-01, -1.21990037e+00,\n",
       "        5.04622161e-01, -2.71504045e-01,  1.85310747e-02, -1.02258980e+00,\n",
       "       -8.10802996e-01,  5.75138986e-01,  4.73707587e-01, -2.53774434e-01,\n",
       "        5.99297285e-02, -2.07840383e-01, -1.20283020e+00,  3.70255381e-01,\n",
       "        1.55558681e+00, -9.51004207e-01, -5.50072134e-01, -4.40097064e-01,\n",
       "        1.34095177e-01,  1.35385081e-01, -6.64251745e-01,  1.27169502e+00,\n",
       "        1.12336600e+00, -2.99043894e-01, -3.62780541e-02,  7.70395815e-01,\n",
       "        3.38366300e-01, -8.11182782e-02, -8.49097252e-01,  1.07742004e-01,\n",
       "       -5.98198116e-01,  8.87947857e-01,  4.85898972e-01, -1.72686651e-01,\n",
       "        3.20063025e-01,  1.43198013e+00, -9.34767947e-02, -7.97200382e-01,\n",
       "       -4.53526944e-01,  6.89809799e-01,  2.11329982e-01,  2.10375071e-01,\n",
       "        1.78384590e+00, -8.97634495e-03, -7.59705678e-02,  1.29862058e+00,\n",
       "        1.09744489e-01,  3.14494222e-01, -1.03410028e-01, -2.93434840e-02,\n",
       "        6.47065818e-01,  2.17877746e+00, -5.29494584e-01,  1.61644086e-01,\n",
       "       -6.93723410e-02, -2.23155737e-01,  4.71971840e-01,  2.66964048e-01,\n",
       "       -4.02939707e-01, -1.01180422e+00, -1.74624801e-01, -1.27642787e+00,\n",
       "        7.89660156e-01,  3.70005876e-01,  8.91989410e-01, -2.81129599e-01,\n",
       "        1.11352682e+00, -7.13254154e-01,  8.24923217e-01, -4.85187978e-01,\n",
       "        7.03455925e-01,  8.54100958e-02, -4.79987115e-01,  5.78269005e-01,\n",
       "       -1.97604015e-01,  9.23473060e-01,  5.28443575e-01, -3.50093752e-01,\n",
       "       -2.40945363e+00, -9.07328844e-01,  6.41253173e-01, -4.36244369e-01,\n",
       "       -2.56506294e-01,  6.51657507e-02, -1.65433645e+00, -4.13202912e-01,\n",
       "       -2.61743575e-01,  2.69619077e-01, -1.68655455e-01,  1.93043202e-02,\n",
       "       -2.04099134e-01, -5.16115367e-01,  6.98703110e-01,  7.01081455e-01,\n",
       "        5.51380932e-01,  6.80575073e-01, -1.66624617e-02, -1.11586459e-01,\n",
       "       -1.83379352e-01, -6.67197406e-01, -2.62976855e-01,  8.52482140e-01,\n",
       "       -2.28132889e-01,  1.23254836e+00,  4.65236276e-01, -1.09552920e+00,\n",
       "       -7.39366055e-01, -2.28110552e-01,  3.16986293e-01, -8.00803125e-01,\n",
       "        6.28482178e-02,  4.70621437e-01, -1.57655910e-01,  5.63881338e-01,\n",
       "        2.02367213e-02,  1.19868934e+00, -4.87097204e-02,  7.07528770e-01,\n",
       "        4.67832446e-01, -5.29405065e-02, -6.64856672e-01,  9.44271028e-01,\n",
       "        6.43672943e-01,  5.95097005e-01,  2.87325829e-01,  6.79793417e-01,\n",
       "        6.04245245e-01, -1.04826486e+00,  1.83297479e+00, -8.96928683e-02,\n",
       "       -2.43096203e-02, -6.56591237e-01, -1.17494142e+00,  8.82849395e-01,\n",
       "        8.12413275e-01, -2.39380836e-01,  2.76200622e-02,  6.54668868e-01,\n",
       "       -8.95218432e-01, -1.56413123e-01,  3.05490583e-01,  2.62730330e-01,\n",
       "        1.37176529e-01, -5.51122546e-01, -5.93873680e-01,  3.40487599e-01,\n",
       "       -5.14485538e-01, -4.19927478e-01,  2.38829422e+00,  1.87871769e-01,\n",
       "        3.16755027e-01, -6.10394478e-01, -1.29824625e-02, -9.64742661e-01,\n",
       "        1.05224979e+00, -1.86861619e-01, -1.56978652e-01,  1.42933166e+00,\n",
       "       -3.75742197e-01,  1.54052274e-02, -8.34199607e-01,  1.66328180e+00,\n",
       "        1.08216858e+00, -4.95212317e-01, -1.01226389e+00, -5.39673865e-01,\n",
       "        8.83121192e-01,  2.37193719e-01,  1.59526432e+00,  3.77202749e-01,\n",
       "        3.60241026e-01, -1.05473302e-01,  2.60052592e-01, -5.73133640e-02,\n",
       "        6.56223774e-01, -4.74989682e-01,  5.54145873e-01,  6.22665703e-01,\n",
       "        9.53257084e-01,  1.53573319e-01, -6.06903076e-01,  1.97448637e-02,\n",
       "        3.89674306e-01,  1.49608972e-02,  1.81017876e+00, -1.70230067e+00,\n",
       "        7.60014281e-02, -9.30476248e-01,  2.36732051e-01,  7.12254569e-02,\n",
       "        8.53716850e-01,  8.14606488e-01,  3.22660655e-01,  5.00850379e-01,\n",
       "        2.09963486e-01, -7.31090546e-01, -2.20006332e-01, -7.65649498e-01,\n",
       "        7.97811687e-01,  9.98487771e-01, -1.04287110e-01, -5.29104710e-01,\n",
       "       -6.97379768e-01,  5.62324643e-01,  2.52166867e-01, -1.27698612e+00,\n",
       "       -2.34633669e-01, -1.10021162e+00, -6.04853213e-01,  1.93633601e-01,\n",
       "       -3.42857212e-01, -3.20617646e-01, -3.05962592e-01,  1.14074659e+00,\n",
       "       -1.64327249e-01, -1.56727925e-01, -6.96053207e-01,  2.79328346e+00,\n",
       "       -5.95919609e-01,  5.90744972e-01,  4.77349311e-01, -1.83441862e-01,\n",
       "        1.13335657e+00,  8.71666968e-01, -1.64562449e-01, -7.22827971e-01,\n",
       "       -1.60234511e-01, -2.49060765e-01, -9.73104179e-01, -2.28703871e-01,\n",
       "       -6.79816604e-02, -3.93283337e-01, -9.75953341e-02, -1.17560303e+00,\n",
       "        1.01616049e+00, -3.55831414e-01,  1.83406714e-02, -3.45041871e-01,\n",
       "        5.76078475e-01,  1.09564412e+00,  9.62203085e-01,  3.31976056e-01,\n",
       "        1.31434393e+00, -1.45969108e-01, -7.42679164e-02, -3.17809284e-02,\n",
       "        1.58897743e-01,  1.26933002e+00,  1.87014595e-01,  8.64901304e-01,\n",
       "        4.67349976e-01,  2.14650705e-01, -2.08350465e-01, -1.69985816e-01,\n",
       "       -8.68088901e-01, -1.30551159e+00, -5.73233962e-02,  3.71914655e-01,\n",
       "       -2.94524938e-01, -2.54262894e-01,  4.82896090e-01,  2.56933004e-01,\n",
       "       -4.08234596e-01,  4.50684540e-02,  1.04540217e+00, -7.25454330e-01,\n",
       "       -1.42730463e+00, -1.34599400e+00,  6.81108236e-02, -5.15872575e-02,\n",
       "        3.29232484e-01,  8.11135113e-01, -3.57426733e-01, -2.48244643e-01,\n",
       "        6.84084713e-01, -1.44280717e-01,  2.61583537e-01, -4.09161240e-01,\n",
       "        3.97877783e-01, -1.10880196e+00, -3.14414769e-01, -1.39406532e-01,\n",
       "       -4.05106135e-02,  5.34080947e-03,  9.03070033e-01, -1.44757664e+00,\n",
       "       -9.41103935e-01, -1.28032792e+00, -1.09991872e+00, -7.03246295e-01],\n",
       "      dtype=float32)"
      ]
     },
     "execution_count": 31,
     "metadata": {},
     "output_type": "execute_result"
    }
   ],
   "source": [
    "from sentence_transformers import SentenceTransformer\n",
    "\n",
    "# 直接使用hugging face\n",
    "# model = SentenceTransformer('moka-ai/m3e-base')\n",
    "\n",
    "# 下载模型到本地，放在models目录下面\n",
    "# model = SentenceTransformer('models/m3e')\n"
   ]
  },
  {
   "cell_type": "code",
   "execution_count": 88,
   "id": "32a6a2dc-1d77-4ec1-b537-675d695edd02",
   "metadata": {},
   "outputs": [],
   "source": [
    "import time\n",
    "def timer(func):\n",
    "    def wrapper(*args, **kwargs):\n",
    "        start_time = time.time()\n",
    "        result = func(*args, **kwargs)\n",
    "        end_time = time.time()\n",
    "        print(f\"函数 {func.__name__} 运行时间为：{end_time - start_time:.3f} 秒\")\n",
    "        return result\n",
    "    return wrapper\n",
    "\n",
    "def cos_similar(v1, v2):\n",
    "    num = float(np.dot(v1, v2)) # 点乘\n",
    "\n",
    "def label_to_bool(labels):\n",
    "    bools = []\n",
    "    for label in labels:\n",
    "        if label == '0':\n",
    "            bools.append(False)\n",
    "        else:\n",
    "            bools.append(True)\n",
    "    return bools\n",
    "\n",
    "@timer\n",
    "def metrics(model, samples, sample_number=1000):\n",
    "    sentence1, sentence2, labels = [], [], []\n",
    "    samples = samples[:sample_number]\n",
    "    for sample in samples:\n",
    "        sentence1.append(sample['sentence1'])\n",
    "        sentence2.append(sample['sentence2'])\n",
    "        labels.append(sample['label'])\n",
    "\n",
    "    # 0, 1 mapping to False, True\n",
    "    bool_labels = label_to_bool(labels)\n",
    "\n",
    "    s1_logit = model.encode(sentence1, batch_size=128, show_progress_bar=True, normalize_embeddings=True)\n",
    "    s2_logit = model.encode(sentence2, batch_size=128, show_progress_bar=True, normalize_embeddings=True)\n",
    "\n",
    "    # 这里直接做点乘，得到 每一对的内积\n",
    "    inner_product = s1_logit * s2_logit\n",
    "    # 推理的时候做了归一化的话，这一部就可以省略\n",
    "    norm1 = np.linalg.norm(s1_logit, axis=1)\n",
    "    norm2 = np.linalg.norm(s2_logit, axis=1)\n",
    "    norm = norm1 * norm2\n",
    "\n",
    "    similarity_score = np.sum(inner_product, axis=1) / norm\n",
    "    \n",
    "    threshold_search = np.arange(0.00, 1.05, 0.05)\n",
    "\n",
    "    accuracy_table = []\n",
    "    for threshold in threshold_search:\n",
    "        match_result = similarity_score > threshold\n",
    "        accuracy = np.sum(match_result == bool_labels)\n",
    "        accuracy_table.append(round(accuracy/len(bool_labels),4)\n",
    "    return accuracy_table\n",
    "    "
   ]
  },
  {
   "cell_type": "code",
   "execution_count": 98,
   "id": "66b7a20c-5ff9-43a5-befe-f06bf3880c0d",
   "metadata": {},
   "outputs": [
    {
     "name": "stdout",
     "output_type": "stream",
     "text": [
      "start to use models/m3e to infer on device mps\n"
     ]
    },
    {
     "name": "stderr",
     "output_type": "stream",
     "text": [
      "Batches: 100%|█████████████████████████████████████████████████████████████████████████████████████████████████████████████████████████████████████████████████████████████████████████████████| 79/79 [02:03<00:00,  1.57s/it]\n",
      "Batches: 100%|█████████████████████████████████████████████████████████████████████████████████████████████████████████████████████████████████████████████████████████████████████████████████| 79/79 [01:49<00:00,  1.39s/it]\n"
     ]
    },
    {
     "name": "stdout",
     "output_type": "stream",
     "text": [
      "(10000,)\n",
      "函数 metrics 运行时间为：233.429 秒\n",
      "start to use models/bge to infer on device mps\n"
     ]
    },
    {
     "name": "stderr",
     "output_type": "stream",
     "text": [
      "Batches: 100%|█████████████████████████████████████████████████████████████████████████████████████████████████████████████████████████████████████████████████████████████████████████████████| 79/79 [02:05<00:00,  1.59s/it]\n",
      "Batches: 100%|█████████████████████████████████████████████████████████████████████████████████████████████████████████████████████████████████████████████████████████████████████████████████| 79/79 [01:46<00:00,  1.35s/it]\n"
     ]
    },
    {
     "name": "stdout",
     "output_type": "stream",
     "text": [
      "(10000,)\n",
      "函数 metrics 运行时间为：232.684 秒\n",
      "start to use models/m3e to infer on device cpu\n"
     ]
    },
    {
     "name": "stderr",
     "output_type": "stream",
     "text": [
      "Batches: 100%|█████████████████████████████████████████████████████████████████████████████████████████████████████████████████████████████████████████████████████████████████████████████████| 79/79 [02:04<00:00,  1.57s/it]\n",
      "Batches: 100%|█████████████████████████████████████████████████████████████████████████████████████████████████████████████████████████████████████████████████████████████████████████████████| 79/79 [01:47<00:00,  1.36s/it]\n"
     ]
    },
    {
     "name": "stdout",
     "output_type": "stream",
     "text": [
      "(10000,)\n",
      "函数 metrics 运行时间为：231.757 秒\n",
      "start to use models/bge to infer on device cpu\n"
     ]
    },
    {
     "name": "stderr",
     "output_type": "stream",
     "text": [
      "Batches: 100%|█████████████████████████████████████████████████████████████████████████████████████████████████████████████████████████████████████████████████████████████████████████████████| 79/79 [02:04<00:00,  1.57s/it]\n",
      "Batches: 100%|█████████████████████████████████████████████████████████████████████████████████████████████████████████████████████████████████████████████████████████████████████████████████| 79/79 [01:45<00:00,  1.34s/it]"
     ]
    },
    {
     "name": "stdout",
     "output_type": "stream",
     "text": [
      "(10000,)\n",
      "函数 metrics 运行时间为：230.379 秒\n"
     ]
    },
    {
     "name": "stderr",
     "output_type": "stream",
     "text": [
      "\n"
     ]
    }
   ],
   "source": [
    "import torch\n",
    "device_names = ['cpu']\n",
    "model_names = ['models/m3e','models/bge']\n",
    "n_sample = len(test_data)\n",
    "accuracy_table = []\n",
    "\n",
    "\n",
    "for device_name in device_names:\n",
    "    for model_name in model_names:\n",
    "        print(f\"start to use {model_name} to infer on device {device_name}\")\n",
    "        device = torch.device(device_name)\n",
    "        \n",
    "        model = SentenceTransformer(model_name, device)\n",
    "        accuracy_table.append(metrics(model, test_data, n_sample))"
   ]
  },
  {
   "cell_type": "code",
   "execution_count": 131,
   "id": "b1293280-3723-4259-adee-28e111d039cc",
   "metadata": {},
   "outputs": [
    {
     "name": "stdout",
     "output_type": "stream",
     "text": [
      "models/m3e, accuracy 0.8404, threshold 0.8\n",
      "models/bge, accuracy 0.8511, threshold 0.65\n"
     ]
    },
    {
     "data": {
      "image/png": "[encoded data removed]",
      "text/plain": [
       "<Figure size 640x480 with 1 Axes>"
      ]
     },
     "metadata": {},
     "output_type": "display_data"
    }
   ],
   "source": [
    "import matplotlib.pyplot as plt\n",
    "thresholds = np.arange(0.00, 1.05, 0.05)\n",
    "accuracy_table\n",
    "labels = ['m3e','bge']\n",
    "for i, accuracy in enumerate(accuracy_table[:len(model_names)]):\n",
    "    accuracy = [float(a) for a in accuracy]\n",
    "    idx = accuracy.index(max(accuracy))\n",
    "    plt.scatter(thresholds, accuracy,label=labels[i])\n",
    "    # plt.hlines(xmin=0, xmax=1, y=accuracy[idx]))\n",
    "    # plt.vlines(ymin=0, ymax=1, x=thresholds[idx])\n",
    "    plt.text(thresholds[idx], accuracy[idx]+0.001, accuracy[idx])\n",
    "    print(f\"{model_names[i]}, accuracy {max(accuracy)}, threshold {thresholds[idx]}\")\n",
    "\n",
    "plt.legend()\n",
    "plt.show()\n",
    "    "
   ]
  },
  {
   "cell_type": "markdown",
   "id": "dc114962-af88-4582-be78-6a0e75a8c29a",
   "metadata": {},
   "source": [
    "# 结论\n",
    "- 就整体来看，bge-v1.5模型的效果要比m3e模型高出一个点，而且threshold的值也更加合理；bge-v1模型的threshold的也会偏高，调整之后下降到了一个比较合理的范围。\n",
    "- 从推理时间上看两者的架构并没有对推理进行加速。"
   ]
  },
  {
   "cell_type": "code",
   "execution_count": 114,
   "id": "722f97cf-1f6d-428a-939b-33e312eca456",
   "metadata": {},
   "outputs": [],
   "source": [
    "# 向量计算相似度 例子\n",
    "import numpy as np\n",
    "a = np.array([[1,2],\n",
    "              [1,2]])\n",
    "\n",
    "b = np.array([[1,3],\n",
    "              [1,2]])\n",
    "# 按行的点乘的结果，\n",
    "c = np.sum(a * b, axis=1)\n"
   ]
  },
  {
   "cell_type": "code",
   "execution_count": 54,
   "id": "ca1a6ab5-bc24-47c6-8d82-2e4de81114d0",
   "metadata": {},
   "outputs": [],
   "source": [
    "n1 = np.linalg.norm(a, axis=1)\n",
    "n2 = np.linalg.norm(b, axis=1)"
   ]
  },
  {
   "cell_type": "code",
   "execution_count": 55,
   "id": "71397ccc-dd0f-40ea-bdde-5df14f50943c",
   "metadata": {},
   "outputs": [
    {
     "data": {
      "text/plain": [
       "(array([2.23606798, 2.23606798]), array([3.16227766, 2.23606798]))"
      ]
     },
     "execution_count": 55,
     "metadata": {},
     "output_type": "execute_result"
    }
   ],
   "source": [
    "n1, n2"
   ]
  },
  {
   "cell_type": "code",
   "execution_count": 115,
   "id": "28504d88-a9d4-425c-9863-dda1344ed452",
   "metadata": {},
   "outputs": [
    {
     "data": {
      "text/plain": [
       "array([0.98994949, 1.        ])"
      ]
     },
     "execution_count": 115,
     "metadata": {},
     "output_type": "execute_result"
    }
   ],
   "source": [
    "c / (n1 * n2)"
   ]
  },
  {
   "cell_type": "code",
   "execution_count": null,
   "id": "cc8437fb-18d9-40b8-ba1c-e3313702e824",
   "metadata": {},
   "outputs": [],
   "source": []
  }
 ],
 "metadata": {
  "kernelspec": {
   "display_name": "Python 3 (ipykernel)",
   "language": "python",
   "name": "python3"
  },
  "language_info": {
   "codemirror_mode": {
    "name": "ipython",
    "version": 3
   },
   "file_extension": ".py",
   "mimetype": "text/x-python",
   "name": "python",
   "nbconvert_exporter": "python",
   "pygments_lexer": "ipython3",
   "version": "3.10.10"
  }
 },
 "nbformat": 4,
 "nbformat_minor": 5
}
